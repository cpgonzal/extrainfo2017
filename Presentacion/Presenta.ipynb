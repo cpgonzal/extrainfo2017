{
 "cells": [
  {
   "cell_type": "code",
   "execution_count": 17,
   "metadata": {
    "collapsed": false,
    "slideshow": {
     "slide_type": "skip"
    }
   },
   "outputs": [
    {
     "data": {
      "text/html": [
       "<style>\n",
       "table,td,tr,th {border:none!important}\n",
       "\n",
       "container {\n",
       "    text-align: center;\n",
       "}\n",
       "a, figure {\n",
       "    display: inline-block;\n",
       "}\n",
       "figcaption {\n",
       "    margin: 6px 0 0 0;\n",
       "    font-size: 18px;\n",
       "    font-variant: small-caps;\n",
       "    font-family: Arial;\n",
       "    font-weight: bold;\n",
       "    color: #bb3333;\n",
       "}\n",
       "figure {\n",
       "    padding: 5px;\n",
       "}\n",
       "img:hover {\n",
       "    transform: scale(1.1);\n",
       "    -ms-transform: scale(1.1);\n",
       "    -webkit-transform: scale(1.1);\n",
       "    -moz-transform: scale(1.1);\n",
       "    -o-transform: scale(1.1);\n",
       "}\n",
       "img {\n",
       "    transition: transform 0.2s;\n",
       "    -webkit-transition: -webkit-transform 0.2s;\n",
       "    -moz-transition: -moz-transform 0.2s;\n",
       "    -o-transition: -o-transform 0.2s;\n",
       "}\n",
       "\n",
       "</style>"
      ],
      "text/plain": [
       "<IPython.core.display.HTML object>"
      ]
     },
     "metadata": {},
     "output_type": "display_data"
    }
   ],
   "source": [
    "%%html\n",
    "<style>\n",
    "table,td,tr,th {border:none!important}\n",
    "\n",
    "container {\n",
    "    text-align: center;\n",
    "}\n",
    "a, figure {\n",
    "    display: inline-block;\n",
    "}\n",
    "figcaption {\n",
    "    margin: 6px 0 0 0;\n",
    "    font-size: 18px;\n",
    "    font-variant: small-caps;\n",
    "    font-family: Arial;\n",
    "    font-weight: bold;\n",
    "    color: #bb3333;\n",
    "}\n",
    "figure {\n",
    "    padding: 5px;\n",
    "}\n",
    "img:hover {\n",
    "    transform: scale(1.1);\n",
    "    -ms-transform: scale(1.1);\n",
    "    -webkit-transform: scale(1.1);\n",
    "    -moz-transform: scale(1.1);\n",
    "    -o-transform: scale(1.1);\n",
    "}\n",
    "img {\n",
    "    transition: transform 0.2s;\n",
    "    -webkit-transition: -webkit-transform 0.2s;\n",
    "    -moz-transition: -moz-transform 0.2s;\n",
    "    -o-transition: -o-transform 0.2s;\n",
    "}\n",
    "\n",
    "</style>"
   ]
  },
  {
   "cell_type": "markdown",
   "metadata": {
    "slideshow": {
     "slide_type": "slide"
    }
   },
   "source": [
    "# Uso de Jupyter Notebooks en la docencia del máster de Ingeniería Informática\n",
    "\n",
    "<table border=\"0\" cellpadding=\"0\" cellspacing=\"0\">\n",
    "        <td border=\"0\" cellpadding=\"0\" cellspacing=\"0\"><img src=\"images/innova_jupyter.png\" width=\"100\" height=\"100\"></td>\n",
    "        <td border=\"0\" cellpadding=\"0\" cellspacing=\"0\"><img src=\"images/innova_python.png\" width=\"200\" height=\"200\"></td>\n",
    "</table>\n",
    "\n",
    "\n",
    "## Autores: \n",
    "- Pedro González Yanes (Centro de Cálculo de ESIT)\n",
    "- Carlos Pérez González (Departamento de Matemáticas, Estadística e Investigación Operativa)\n"
   ]
  },
  {
   "cell_type": "markdown",
   "metadata": {
    "slideshow": {
     "slide_type": "slide"
    }
   },
   "source": [
    "# ¿Qué es Jupyter?\n",
    "\n",
    "* El Jupyter Notebook es un entorno interactivo web que permite ejecutar código de ciertos programas:\n",
    "\n",
    "<div id=\"container\">\n",
    "    <a >\n",
    "        <figure>\n",
    "            <img src=\"images/innova_R.jpg\" width=\"80px\" height=\"80px\" />\n",
    "            <figcaption>R (statistical analysis)</figcaption>\n",
    "        </figure>\n",
    "    </a>\n",
    "    <a >\n",
    "        <figure>\n",
    "             <img src=\"images/innova_python.jpg\" width=\"80px\" height=\"80px\" />\n",
    "            <figcaption>Python (general purpose)</figcaption>\n",
    "        </figure>\n",
    "    </a>\n",
    "    <a >\n",
    "        <figure>\n",
    "             <img src=\"images/innova_julia.png\" width=\"80px\" height=\"80px\" />\n",
    "            <figcaption>Julia (numerical computing)</figcaption>\n",
    "        </figure>\n",
    "    </a>\n",
    "    <a >\n",
    "        <figure>\n",
    "             <img src=\"images/innova_octave.jpg\" width=\"80px\" height=\"80px\" />\n",
    "            <figcaption>Octave</figcaption>\n",
    "        </figure>\n",
    "    </a>\n",
    "</div>\n",
    "\n",
    "* El alumno utiliza sólo un navegador (no es necesario instalar ningún programa) y puede introducir instrucciones a través de un cuaderno de trabajo (notebook) muy sencillo de manejar.\n",
    "* Cada vez que se ejecuta una instrucción, ésta se procesa por el servidor y envía el resultado al notebook.\n",
    "* El entorno permite que el alumno tenga un espacio de trabajo personal donde puede crear nuevos notebooks en los que trabajar y realizar las diferentes tareas .\n",
    "* Al finalizar, el alumno puede descargar su notebook y enviarlo al profesor para su evaluación.\n",
    "\n",
    "\n"
   ]
  },
  {
   "cell_type": "markdown",
   "metadata": {
    "collapsed": true,
    "slideshow": {
     "slide_type": "slide"
    }
   },
   "source": [
    "## ¿Cómo accede el usuario a su espacio de trabajo?\n",
    "\n",
    "* El alumno utiliza su usuario y password de ULL para entrar a su entorno personal de jupyter:\n",
    "\n",
    "<img align=\"\" src=\"images/innova_jupyter_hub_login.PNG\" width=\"900\" height=\"900\">"
   ]
  },
  {
   "cell_type": "markdown",
   "metadata": {
    "slideshow": {
     "slide_type": "subslide"
    }
   },
   "source": [
    "* Y es en este entorno donde puede crear sus propios notebooks:\n",
    "\n",
    "<img align=\"\" src=\"images/innova_jupyter_new_notebook.PNG\" width=\"900\" height=\"1800\">"
   ]
  },
  {
   "cell_type": "markdown",
   "metadata": {
    "collapsed": true,
    "slideshow": {
     "slide_type": "slide"
    }
   },
   "source": [
    "## ¿Qué aspecto presenta el notebook de jupyter?\n",
    "\n",
    "* El notebook tiene el siguiente aspecto:\n",
    "\n",
    "<img align=\"\" src=\"images/innova_jupyter_new_notebook2.PNG\" width=\"900\" height=\"2500\">\n",
    "\n"
   ]
  },
  {
   "cell_type": "markdown",
   "metadata": {
    "slideshow": {
     "slide_type": "subslide"
    }
   },
   "source": [
    "* Permite introducir código (operaciones de cálculo, gráficos, etc..), etiquetas, ecuaciones $\\LaTeX$, ... así como descragar el notebook en múltiples formatos\n",
    "* Los alumnos pueden editar y ejecutar en vivo el código\n",
    "* Se puede crear una versión estática del notebook para que otros la puedan ver \n",
    "* Tiene un enorme interés por lo que supone para la **Investigación reproducible** "
   ]
  },
  {
   "cell_type": "markdown",
   "metadata": {
    "collapsed": true,
    "slideshow": {
     "slide_type": "subslide"
    }
   },
   "source": [
    "#### operaciones de cálculo analítico"
   ]
  },
  {
   "cell_type": "code",
   "execution_count": 6,
   "metadata": {
    "collapsed": false,
    "slideshow": {
     "slide_type": "-"
    }
   },
   "outputs": [
    {
     "data": {
      "text/latex": [
       "$$ \\int x^2  \\exp(x)  \\cos(x) dx $$"
      ],
      "text/plain": [
       "<IPython.core.display.Latex object>"
      ]
     },
     "metadata": {},
     "output_type": "display_data"
    }
   ],
   "source": [
    "%%latex\n",
    "$$ \\int x^2  \\exp(x)  \\cos(x) dx $$"
   ]
  },
  {
   "cell_type": "code",
   "execution_count": 7,
   "metadata": {
    "collapsed": false
   },
   "outputs": [
    {
     "name": "stdout",
     "output_type": "stream",
     "text": [
      " 2  x           2  x                         x           x       \n",
      "x ⋅ℯ ⋅sin(x)   x ⋅ℯ ⋅cos(x)      x          ℯ ⋅sin(x)   ℯ ⋅cos(x)\n",
      "──────────── + ──────────── - x⋅ℯ ⋅sin(x) + ───────── - ─────────\n",
      "     2              2                           2           2    \n"
     ]
    }
   ],
   "source": [
    "from sympy import *\n",
    "x = symbols('x')\n",
    "pprint(integrate(x**2 * exp(x) * cos(x), x))"
   ]
  },
  {
   "cell_type": "markdown",
   "metadata": {
    "slideshow": {
     "slide_type": "subslide"
    }
   },
   "source": [
    "#### representación de gráficos"
   ]
  },
  {
   "cell_type": "code",
   "execution_count": 16,
   "metadata": {
    "collapsed": false
   },
   "outputs": [
    {
     "data": {
      "text/plain": [
       "<matplotlib.axes._subplots.AxesSubplot at 0x7f60fd754978>"
      ]
     },
     "execution_count": 16,
     "metadata": {},
     "output_type": "execute_result"
    },
    {
     "data": {
      "image/png": "[encoded data removed]",
      "text/plain": [
       "<matplotlib.figure.Figure at 0x7f60fd7640f0>"
      ]
     },
     "metadata": {},
     "output_type": "display_data"
    }
   ],
   "source": [
    "import pandas as pd\n",
    "import numpy as np\n",
    "import matplotlib.pyplot as plt\n",
    "\n",
    "ts = pd.Series(np.random.randn(1000), index=pd.date_range('01/01/2017', periods=1000))\n",
    "ts = ts.cumsum()\n",
    "ts.plot()"
   ]
  },
  {
   "cell_type": "markdown",
   "metadata": {
    "slideshow": {
     "slide_type": "slide"
    }
   },
   "source": [
    "## Ejercicios propuestos a los alumnos del máster de Ingeniería Informática"
   ]
  },
  {
   "cell_type": "markdown",
   "metadata": {},
   "source": [
    "<h2> Lab: Análisis de los gastos en tarjetas black de Bankia </h2>\n",
    "\n",
    "\n",
    "<img align=\"left\" src=\"images/tarjetas-black.jpg\" width=\"200\" height=\"200\">"
   ]
  },
  {
   "cell_type": "code",
   "execution_count": 3,
   "metadata": {
    "collapsed": false
   },
   "outputs": [],
   "source": [
    "from pyspark import SparkContext, SQLContext\n",
    "sc =SparkContext()"
   ]
  },
  {
   "cell_type": "markdown",
   "metadata": {
    "slideshow": {
     "slide_type": "subslide"
    }
   },
   "source": [
    "### Question 1\n",
    "\n",
    "Load data in fraude/movimientos_tarjetas_black_caja_madrid.csv"
   ]
  },
  {
   "cell_type": "code",
   "execution_count": 4,
   "metadata": {
    "collapsed": false
   },
   "outputs": [
    {
     "name": "stdout",
     "output_type": "stream",
     "text": [
      "root\n",
      " |-- id: integer (nullable = true)\n",
      " |-- nombre: string (nullable = true)\n",
      " |-- importe: double (nullable = true)\n",
      " |-- nombre_comercio: string (nullable = true)\n",
      " |-- actividad: string (nullable = true)\n",
      " |-- operacion: string (nullable = true)\n",
      " |-- fecha: timestamp (nullable = true)\n",
      " |-- fechayear: integer (nullable = true)\n",
      " |-- fechamonth: integer (nullable = true)\n",
      " |-- fechaday-of-month: integer (nullable = true)\n",
      " |-- fechaday-of-week: integer (nullable = true)\n",
      " |-- hora: string (nullable = true)\n",
      " |-- horahour: integer (nullable = true)\n",
      " |-- horaminute: integer (nullable = true)\n",
      " |-- horasecond: integer (nullable = true)\n",
      "\n"
     ]
    }
   ],
   "source": [
    "sqlContext = SQLContext(sc)\n",
    "\n",
    "def answer_one():\n",
    "    df = sqlContext.read.format('com.databricks.spark.csv') \\\n",
    "                    .options(header='true', inferschema='true', delimiter=';') \\\n",
    "                    .load('file:///home/jovyan/work/Presentacion/fraude/movimientos_tarjetas_black_caja_madrid.csv')\n",
    "    return df\n",
    "\n",
    "df=answer_one() \n",
    "df.printSchema()"
   ]
  },
  {
   "cell_type": "markdown",
   "metadata": {
    "slideshow": {
     "slide_type": "subslide"
    }
   },
   "source": [
    "### Question 2\n",
    "\n",
    "Obtain the 10 persons with the highest amount of expenses"
   ]
  },
  {
   "cell_type": "code",
   "execution_count": 5,
   "metadata": {
    "collapsed": false
   },
   "outputs": [
    {
     "data": {
      "text/html": [
       "<div>\n",
       "<table border=\"1\" class=\"dataframe\">\n",
       "  <thead>\n",
       "    <tr style=\"text-align: right;\">\n",
       "      <th></th>\n",
       "      <th>Gasto</th>\n",
       "      <th>Ejecutivo</th>\n",
       "    </tr>\n",
       "  </thead>\n",
       "  <tbody>\n",
       "    <tr>\n",
       "      <th>0</th>\n",
       "      <td>572185.49</td>\n",
       "      <td>SÁNCHEZ BARCOJ, ILDEFONSO JOSÉ</td>\n",
       "    </tr>\n",
       "    <tr>\n",
       "      <th>1</th>\n",
       "      <td>447769.73</td>\n",
       "      <td>MORAL SANTÍN, JOSÉ ANTONIO</td>\n",
       "    </tr>\n",
       "    <tr>\n",
       "      <th>2</th>\n",
       "      <td>443999.19</td>\n",
       "      <td>MORADO IGLESIAS, RICARDO</td>\n",
       "    </tr>\n",
       "    <tr>\n",
       "      <th>3</th>\n",
       "      <td>429272.16</td>\n",
       "      <td>AMAT ROCA, MATÍAS</td>\n",
       "    </tr>\n",
       "    <tr>\n",
       "      <th>4</th>\n",
       "      <td>423068.49</td>\n",
       "      <td>BLESA DE LA PARRA, MIGUEL</td>\n",
       "    </tr>\n",
       "    <tr>\n",
       "      <th>5</th>\n",
       "      <td>389450.35</td>\n",
       "      <td>FERRAZ RICARTE, RAMÓN</td>\n",
       "    </tr>\n",
       "    <tr>\n",
       "      <th>6</th>\n",
       "      <td>354171.00</td>\n",
       "      <td>PÉREZ CLAVER, MARIANO</td>\n",
       "    </tr>\n",
       "    <tr>\n",
       "      <th>7</th>\n",
       "      <td>304818.36</td>\n",
       "      <td>TORRE MARTÍNEZ, ENRIQUE DE LA</td>\n",
       "    </tr>\n",
       "    <tr>\n",
       "      <th>8</th>\n",
       "      <td>287121.20</td>\n",
       "      <td>ASTORQUI PORTERA, JUAN MANUEL</td>\n",
       "    </tr>\n",
       "    <tr>\n",
       "      <th>9</th>\n",
       "      <td>284404.42</td>\n",
       "      <td>DE LA MERCED MONGE, MARÍA MERCEDES</td>\n",
       "    </tr>\n",
       "  </tbody>\n",
       "</table>\n",
       "</div>"
      ],
      "text/plain": [
       "       Gasto                           Ejecutivo\n",
       "0  572185.49      SÁNCHEZ BARCOJ, ILDEFONSO JOSÉ\n",
       "1  447769.73          MORAL SANTÍN, JOSÉ ANTONIO\n",
       "2  443999.19            MORADO IGLESIAS, RICARDO\n",
       "3  429272.16                   AMAT ROCA, MATÍAS\n",
       "4  423068.49           BLESA DE LA PARRA, MIGUEL\n",
       "5  389450.35               FERRAZ RICARTE, RAMÓN\n",
       "6  354171.00               PÉREZ CLAVER, MARIANO\n",
       "7  304818.36       TORRE MARTÍNEZ, ENRIQUE DE LA\n",
       "8  287121.20       ASTORQUI PORTERA, JUAN MANUEL\n",
       "9  284404.42  DE LA MERCED MONGE, MARÍA MERCEDES"
      ]
     },
     "execution_count": 5,
     "metadata": {},
     "output_type": "execute_result"
    }
   ],
   "source": [
    "import pandas as pd\n",
    "def answer_four():\n",
    "    df_mapped=df.select('nombre','importe').rdd.map(lambda x: (x[0],x[1])) \n",
    "    df_reduced=df_mapped.reduceByKey(lambda x,y:x+y)\n",
    "    df_top=df_reduced.map(lambda x:(x[1],x[0])).sortByKey(ascending=False)\n",
    "    return df_top\n",
    "\n",
    "persons=answer_four()\n",
    "\n",
    "pd.DataFrame(persons.take(10), columns=[\"Gasto\", \"Ejecutivo\"])  "
   ]
  }
 ],
 "metadata": {
  "celltoolbar": "Slideshow",
  "kernelspec": {
   "display_name": "Python 3",
   "language": "python",
   "name": "python3"
  },
  "language_info": {
   "codemirror_mode": {
    "name": "ipython",
    "version": 3
   },
   "file_extension": ".py",
   "mimetype": "text/x-python",
   "name": "python",
   "nbconvert_exporter": "python",
   "pygments_lexer": "ipython3",
   "version": "3.5.2"
  }
 },
 "nbformat": 4,
 "nbformat_minor": 2
}

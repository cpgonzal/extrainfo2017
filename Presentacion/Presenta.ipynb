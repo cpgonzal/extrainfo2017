{
 "cells": [
  {
   "cell_type": "code",
   "execution_count": 1,
   "metadata": {
    "collapsed": false,
    "slideshow": {
     "slide_type": "skip"
    }
   },
   "outputs": [
    {
     "data": {
      "text/html": [
       "<style>\n",
       "table,td,tr,th {border:none!important}\n",
       "\n",
       "container {\n",
       "    text-align: center;\n",
       "}\n",
       "a, figure {\n",
       "    display: inline-block;\n",
       "}\n",
       "figcaption {\n",
       "    margin: 6px 0 0 0;\n",
       "    font-size: 18px;\n",
       "    font-variant: small-caps;\n",
       "    font-family: Arial;\n",
       "    font-weight: bold;\n",
       "    color: #bb3333;\n",
       "}\n",
       "figure {\n",
       "    padding: 5px;\n",
       "}\n",
       "img:hover {\n",
       "    transform: scale(1.1);\n",
       "    -ms-transform: scale(1.1);\n",
       "    -webkit-transform: scale(1.1);\n",
       "    -moz-transform: scale(1.1);\n",
       "    -o-transform: scale(1.1);\n",
       "}\n",
       "img {\n",
       "    transition: transform 0.2s;\n",
       "    -webkit-transition: -webkit-transform 0.2s;\n",
       "    -moz-transition: -moz-transform 0.2s;\n",
       "    -o-transition: -o-transform 0.2s;\n",
       "}\n",
       "\n",
       "</style>"
      ],
      "text/plain": [
       "<IPython.core.display.HTML object>"
      ]
     },
     "metadata": {},
     "output_type": "display_data"
    }
   ],
   "source": [
    "%%html\n",
    "<style>\n",
    "table,td,tr,th {border:none!important}\n",
    "\n",
    "container {\n",
    "    text-align: center;\n",
    "}\n",
    "a, figure {\n",
    "    display: inline-block;\n",
    "}\n",
    "figcaption {\n",
    "    margin: 6px 0 0 0;\n",
    "    font-size: 18px;\n",
    "    font-variant: small-caps;\n",
    "    font-family: Arial;\n",
    "    font-weight: bold;\n",
    "    color: #bb3333;\n",
    "}\n",
    "figure {\n",
    "    padding: 5px;\n",
    "}\n",
    "img:hover {\n",
    "    transform: scale(1.1);\n",
    "    -ms-transform: scale(1.1);\n",
    "    -webkit-transform: scale(1.1);\n",
    "    -moz-transform: scale(1.1);\n",
    "    -o-transform: scale(1.1);\n",
    "}\n",
    "img {\n",
    "    transition: transform 0.2s;\n",
    "    -webkit-transition: -webkit-transform 0.2s;\n",
    "    -moz-transition: -moz-transform 0.2s;\n",
    "    -o-transition: -o-transform 0.2s;\n",
    "}\n",
    "\n",
    "</style>"
   ]
  },
  {
   "cell_type": "markdown",
   "metadata": {
    "slideshow": {
     "slide_type": "slide"
    }
   },
   "source": [
    "# Uso de Jupyter Notebooks en la docencia del máster de Ingeniería Informática\n",
    "\n",
    "<table border=\"0\" cellpadding=\"0\" cellspacing=\"0\">\n",
    "        <td border=\"0\" cellpadding=\"0\" cellspacing=\"0\"><img src=\"images/innova_jupyter.png\" width=\"100\" height=\"100\"></td>\n",
    "        <td border=\"0\" cellpadding=\"0\" cellspacing=\"0\"><img src=\"images/innova_python.png\" width=\"200\" height=\"200\"></td>\n",
    "</table>\n",
    "\n",
    "\n",
    "## Autores: \n",
    "- Pedro González Yanes (Centro de Cálculo de ESIT)\n",
    "- Carlos Pérez González (Departamento de Matemáticas, Estadística e Investigación Operativa)\n"
   ]
  },
  {
   "cell_type": "markdown",
   "metadata": {
    "slideshow": {
     "slide_type": "slide"
    }
   },
   "source": [
    "# ¿Qué es Jupyter?\n",
    "\n",
    "* El Jupyter Notebook es un entorno interactivo web que permite ejecutar código de ciertos programas:\n",
    "\n",
    "<div id=\"container\">\n",
    "    <a >\n",
    "        <figure>\n",
    "            <img src=\"innova_R.jpg\" width=\"80px\" height=\"80px\" />\n",
    "            <figcaption>R (statistical analysis)</figcaption>\n",
    "        </figure>\n",
    "    </a>\n",
    "    <a >\n",
    "        <figure>\n",
    "             <img src=\"innova_python.jpg\" width=\"80px\" height=\"80px\" />\n",
    "            <figcaption>Python (general purpose)</figcaption>\n",
    "        </figure>\n",
    "    </a>\n",
    "    <a >\n",
    "        <figure>\n",
    "             <img src=\"images/innova_julia.png\" width=\"80px\" height=\"80px\" />\n",
    "            <figcaption>Julia (numerical computing)</figcaption>\n",
    "        </figure>\n",
    "    </a>\n",
    "    <a >\n",
    "        <figure>\n",
    "             <img src=\"images/innova_octave.jpg\" width=\"80px\" height=\"80px\" />\n",
    "            <figcaption>Octave</figcaption>\n",
    "        </figure>\n",
    "    </a>\n",
    "</div>\n",
    "\n",
    "* El alumno utiliza sólo un navegador (no es necesario instalar ningún programa) y puede introducir instrucciones a través de un cuaderno de trabajo (notebook) muy sencillo de manejar.\n",
    "* Cada vez que se ejecuta una instrucción, ésta se procesa por el servidor y envía el resultado al notebook.\n",
    "* El entorno permite que el alumno tenga un espacio de trabajo personal donde puede crear nuevos notebooks en los que trabajar y realizar las diferentes tareas .\n",
    "* Al finalizar, el alumno puede descargar su notebook y enviarlo al profesor para su evaluación.\n",
    "\n",
    "\n"
   ]
  },
  {
   "cell_type": "markdown",
   "metadata": {
    "collapsed": true,
    "slideshow": {
     "slide_type": "slide"
    }
   },
   "source": [
    "## ¿Cómo accede el usuario a su espacio de trabajo?\n",
    "\n",
    "* El alumno utiliza su usuario y password de ULL para entrar a su entorno personal de jupyter:\n",
    "\n",
    "<img align=\"\" src=\"images/innova_jupyter_hub_login.PNG\" width=\"900\" height=\"900\">"
   ]
  },
  {
   "cell_type": "markdown",
   "metadata": {
    "slideshow": {
     "slide_type": "subslide"
    }
   },
   "source": [
    "* Y es en este entorno donde puede crear sus propios notebooks:\n",
    "\n",
    "<img align=\"\" src=\"images/innova_jupyter_new_notebook.PNG\" width=\"900\" height=\"1800\">"
   ]
  },
  {
   "cell_type": "markdown",
   "metadata": {
    "collapsed": true,
    "slideshow": {
     "slide_type": "slide"
    }
   },
   "source": [
    "## ¿Qué aspecto presenta el notebook de jupyter?\n",
    "\n",
    "* El notebook tiene el siguiente aspecto:\n",
    "\n",
    "<img align=\"\" src=\"images/innova_jupyter_new_notebook2.PNG\" width=\"900\" height=\"2500\">\n",
    "\n"
   ]
  },
  {
   "cell_type": "markdown",
   "metadata": {
    "slideshow": {
     "slide_type": "subslide"
    }
   },
   "source": [
    "* Permite introducir código (operaciones de cálculo, gráficos, etc..), etiquetas, ecuaciones $\\LaTeX$, ... así como descragar el notebook en múltiples formatos\n",
    "* Los alumnos pueden editar y ejecutar en vivo el código\n",
    "* Se puede crear una versión estática del notebook para que otros la puedan ver \n",
    "* Tiene un enorme interés por lo que supone para la **Investigación reproducible** "
   ]
  },
  {
   "cell_type": "markdown",
   "metadata": {
    "collapsed": true,
    "slideshow": {
     "slide_type": "subslide"
    }
   },
   "source": [
    "#### operaciones de cálculo analítico"
   ]
  },
  {
   "cell_type": "code",
   "execution_count": null,
   "metadata": {
    "collapsed": false,
    "slideshow": {
     "slide_type": "-"
    }
   },
   "outputs": [],
   "source": [
    "%%latex\n",
    "$$ \\int x^2  \\exp(x)  \\cos(x) dx $$"
   ]
  },
  {
   "cell_type": "code",
   "execution_count": null,
   "metadata": {
    "collapsed": false
   },
   "outputs": [],
   "source": [
    "from sympy import *\n",
    "x = symbols('x')\n",
    "pprint(integrate(x**2 * exp(x) * cos(x), x))"
   ]
  },
  {
   "cell_type": "markdown",
   "metadata": {
    "slideshow": {
     "slide_type": "subslide"
    }
   },
   "source": [
    "#### representación de gráficos"
   ]
  },
  {
   "cell_type": "code",
   "execution_count": null,
   "metadata": {
    "collapsed": false
   },
   "outputs": [],
   "source": [
    "x=['Enero','Febrero','Marzo','Abril']\n",
    "y=[300,120,400,500]\n",
    "\n",
    "import matplotlib.pyplot as plt\n",
    "plt.plot(range(len(x)),y)\n",
    "plt.xticks(range(len(x)), x, size='small')"
   ]
  },
  {
   "cell_type": "markdown",
   "metadata": {
    "slideshow": {
     "slide_type": "slide"
    }
   },
   "source": [
    "## Ejercicios propuestos a los alumnos del máster de Ingeniería Informática"
   ]
  },
  {
   "cell_type": "markdown",
   "metadata": {},
   "source": [
    "<h2> Lab: Análisis de los gastos en tarjetas black de Bankia </h2>\n",
    "<img align=left src=\"images/tarjetas-black.jpg\" width=200 height=200 />\n",
    "</a>"
   ]
  },
  {
   "cell_type": "code",
   "execution_count": 3,
   "metadata": {
    "collapsed": false
   },
   "outputs": [],
   "source": [
    "from pyspark import SparkContext, SQLContext\n",
    "sc =SparkContext()"
   ]
  },
  {
   "cell_type": "markdown",
   "metadata": {
    "slideshow": {
     "slide_type": "subslide"
    }
   },
   "source": [
    "### Question 1\n",
    "\n",
    "Load data in fraude/movimientos_tarjetas_black_caja_madrid.csv"
   ]
  },
  {
   "cell_type": "code",
   "execution_count": 5,
   "metadata": {
    "collapsed": false
   },
   "outputs": [
    {
     "name": "stdout",
     "output_type": "stream",
     "text": [
      "root\n",
      " |-- id: integer (nullable = true)\n",
      " |-- nombre: string (nullable = true)\n",
      " |-- importe: double (nullable = true)\n",
      " |-- nombre_comercio: string (nullable = true)\n",
      " |-- actividad: string (nullable = true)\n",
      " |-- operacion: string (nullable = true)\n",
      " |-- fecha: timestamp (nullable = true)\n",
      " |-- fechayear: integer (nullable = true)\n",
      " |-- fechamonth: integer (nullable = true)\n",
      " |-- fechaday-of-month: integer (nullable = true)\n",
      " |-- fechaday-of-week: integer (nullable = true)\n",
      " |-- hora: string (nullable = true)\n",
      " |-- horahour: integer (nullable = true)\n",
      " |-- horaminute: integer (nullable = true)\n",
      " |-- horasecond: integer (nullable = true)\n",
      "\n"
     ]
    }
   ],
   "source": [
    "sqlContext = SQLContext(sc)\n",
    "\n",
    "def answer_one():\n",
    "    df = sqlContext.read.format('com.databricks.spark.csv') \\\n",
    "                    .options(header='true', inferschema='true', delimiter=';') \\\n",
    "                    .load('file:///home/jovyan/work/Presentación/fraude/movimientos_tarjetas_black_caja_madrid.csv')\n",
    "    return df\n",
    "\n",
    "df=answer_one() \n",
    "df.printSchema()"
   ]
  },
  {
   "cell_type": "markdown",
   "metadata": {
    "slideshow": {
     "slide_type": "subslide"
    }
   },
   "source": [
    "### Question 2\n",
    "\n",
    "Obtain the 10 persons with the highest amount of expenses"
   ]
  },
  {
   "cell_type": "code",
   "execution_count": null,
   "metadata": {
    "collapsed": false
   },
   "outputs": [],
   "source": [
    "import pandas as pd\n",
    "def answer_four():\n",
    "    df_mapped=df.select('nombre','importe').rdd.map(lambda x: (x[0],x[1])) \n",
    "    df_reduced=df_mapped.reduceByKey(lambda x,y:x+y)\n",
    "    df_top=df_reduced.map(lambda x:(x[1],x[0])).sortByKey(ascending=False)\n",
    "    return df_top\n",
    "\n",
    "persons=answer_four()\n",
    "\n",
    "pd.DataFrame(persons.take(10), columns=[\"Gasto\", \"Ejecutivo\"])  "
   ]
  },
  {
   "cell_type": "code",
   "execution_count": null,
   "metadata": {
    "collapsed": true
   },
   "outputs": [],
   "source": []
  }
 ],
 "metadata": {
  "celltoolbar": "Slideshow",
  "kernelspec": {
   "display_name": "Python 3",
   "language": "python",
   "name": "python3"
  },
  "language_info": {
   "codemirror_mode": {
    "name": "ipython",
    "version": 3
   },
   "file_extension": ".py",
   "mimetype": "text/x-python",
   "name": "python",
   "nbconvert_exporter": "python",
   "pygments_lexer": "ipython3",
   "version": "3.5.2"
  }
 },
 "nbformat": 4,
 "nbformat_minor": 2
}

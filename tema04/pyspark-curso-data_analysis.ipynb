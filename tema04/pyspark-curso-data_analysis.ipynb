{
 "cells": [
  {
   "cell_type": "markdown",
   "metadata": {},
   "source": [
    "<h1> Curso de Spark </h1>\n",
    "<h2> Organizado por Grupo TARO de ULL </h2>\n",
    "<h3> Ponentes: José L. Roda, Marcos Colebrook, Carlos Pérez </h3>\n",
    "<h5> (profesores del itinerario de Ingeniería del Software en Máster de Ingeniería Informática de ULL) </h5>\n"
   ]
  },
  {
   "cell_type": "markdown",
   "metadata": {},
   "source": [
    "<h2> Ejemplo práctico I: Conteo de palabras en archivos </h2>\n",
    "<a href=\"http://www.gutenberg.org/wiki/Main_Page\">\n",
    "<img align=left src=\"images/cosette.jpg\" width=200 height=200 />\n",
    "</a>"
   ]
  },
  {
   "cell_type": "code",
   "execution_count": 2,
   "metadata": {
    "collapsed": false
   },
   "outputs": [
    {
     "data": {
      "text/plain": [
       "<pyspark.context.SparkContext at 0x7f7943b09198>"
      ]
     },
     "execution_count": 2,
     "metadata": {},
     "output_type": "execute_result"
    }
   ],
   "source": [
    "from pyspark import SparkContext\n",
    "sc =SparkContext()\n",
    "sc"
   ]
  },
  {
   "cell_type": "code",
   "execution_count": 3,
   "metadata": {
    "collapsed": true
   },
   "outputs": [],
   "source": [
    "book = sc.textFile('los_miserables/')"
   ]
  },
  {
   "cell_type": "code",
   "execution_count": 4,
   "metadata": {
    "collapsed": false
   },
   "outputs": [
    {
     "data": {
      "text/plain": [
       "68120"
      ]
     },
     "execution_count": 4,
     "metadata": {},
     "output_type": "execute_result"
    }
   ],
   "source": [
    "book.count()"
   ]
  },
  {
   "cell_type": "code",
   "execution_count": 19,
   "metadata": {
    "collapsed": true
   },
   "outputs": [],
   "source": [
    "lines_nonempty = book.filter( lambda x: len(x) > 0 )"
   ]
  },
  {
   "cell_type": "code",
   "execution_count": 20,
   "metadata": {
    "collapsed": false
   },
   "outputs": [
    {
     "data": {
      "text/plain": [
       "52973"
      ]
     },
     "execution_count": 20,
     "metadata": {},
     "output_type": "execute_result"
    }
   ],
   "source": [
    "lines_nonempty.count()"
   ]
  },
  {
   "cell_type": "code",
   "execution_count": 29,
   "metadata": {
    "collapsed": false
   },
   "outputs": [
    {
     "data": {
      "text/plain": [
       "[u'VOLUME', u'III--MARIUS.', u'[Illustration:', u'Frontispiece', u'Volume']"
      ]
     },
     "execution_count": 29,
     "metadata": {},
     "output_type": "execute_result"
    }
   ],
   "source": [
    "#flatMap applies a function which takes each input value and returns a list. \n",
    "#Each value of the list becomes a new, separate value in the output RDD\n",
    "words = lines_nonempty.flatMap(lambda x: x.split())\n",
    "words.take(5)"
   ]
  },
  {
   "cell_type": "code",
   "execution_count": 30,
   "metadata": {
    "collapsed": false
   },
   "outputs": [
    {
     "data": {
      "text/plain": [
       "[(u'VOLUME', 1),\n",
       " (u'III--MARIUS.', 1),\n",
       " (u'[Illustration:', 1),\n",
       " (u'Frontispiece', 1),\n",
       " (u'Volume', 1)]"
      ]
     },
     "execution_count": 30,
     "metadata": {},
     "output_type": "execute_result"
    }
   ],
   "source": [
    "# We use a function which replaces each original value in the input RDD \n",
    "# with a 2-tuple containing the word in the first position and the integer value 1 \n",
    "# in the second position\n",
    "wordcounts1 = words.map(lambda x: (x, 1))  \n",
    "wordcounts1.take(5)"
   ]
  },
  {
   "cell_type": "code",
   "execution_count": 31,
   "metadata": {
    "collapsed": false
   },
   "outputs": [
    {
     "data": {
      "text/plain": [
       "[(u'texts:', 1),\n",
       " (u'instinctive,', 1),\n",
       " (u'shouted.', 2),\n",
       " (u'yellow', 42),\n",
       " (u'clotted', 1)]"
      ]
     },
     "execution_count": 31,
     "metadata": {},
     "output_type": "execute_result"
    }
   ],
   "source": [
    "# It is expected that the input RDD contains tuples of the form (<key>,<value>). \n",
    "# Create a new RDD containing a tuple for each unique value of <key> in the input, \n",
    "# where the value in the second position of the tuple is created by applying \n",
    "# the supplied lambda function to the <value>s with the matching <key> in the input RDD\n",
    "wordcounts2=wordcounts1.reduceByKey(lambda x,y:x+y)\n",
    "wordcounts2.take(5)"
   ]
  },
  {
   "cell_type": "code",
   "execution_count": 32,
   "metadata": {
    "collapsed": false
   },
   "outputs": [
    {
     "data": {
      "text/plain": [
       "[(1, u'texts:'),\n",
       " (1, u'instinctive,'),\n",
       " (2, u'shouted.'),\n",
       " (42, u'yellow'),\n",
       " (1, u'clotted')]"
      ]
     },
     "execution_count": 32,
     "metadata": {},
     "output_type": "execute_result"
    }
   ],
   "source": [
    "# map a lambda function to the data which will swap over the first and second values \n",
    "# in each tuple, now the word count appears in the first \n",
    "wordcounts3=wordcounts2.map(lambda x:(x[1],x[0])) \n",
    "wordcounts3.take(5)"
   ]
  },
  {
   "cell_type": "code",
   "execution_count": 33,
   "metadata": {
    "collapsed": false
   },
   "outputs": [
    {
     "data": {
      "text/plain": [
       "[(36588, u'the'),\n",
       " (19666, u'of'),\n",
       " (13819, u'and'),\n",
       " (13480, u'a'),\n",
       " (13305, u'to')]"
      ]
     },
     "execution_count": 33,
     "metadata": {},
     "output_type": "execute_result"
    }
   ],
   "source": [
    "#sort the input RDD by the key value (the value at the first position in each tuple)\n",
    "#the False parameter sets the sort order to descending\n",
    "wordcounts4 = wordcounts3.sortByKey(ascending=False)\n",
    "wordcounts4.take(5)"
   ]
  },
  {
   "cell_type": "code",
   "execution_count": null,
   "metadata": {
    "collapsed": true
   },
   "outputs": [],
   "source": [
    "#all last instructions in only one\n",
    "wordcounts = words.map(lambda x: (x, 1)) \\\n",
    "                  .reduceByKey(lambda x,y:x+y) \\\n",
    "                  .map(lambda x:(x[1],x[0])) "
   ]
  },
  {
   "cell_type": "markdown",
   "metadata": {},
   "source": [
    "<h2> Ejemplo práctico II: Alertas del servicio 112 </h2>\n",
    "<a href=\"http://www.112canarias.com/info\">\n",
    "<img align=left src=\"files/images/procesollamada_001.jpg\" width=200 height=200 />\n",
    "</a>"
   ]
  },
  {
   "cell_type": "code",
   "execution_count": 5,
   "metadata": {
    "collapsed": true
   },
   "outputs": [],
   "source": [
    "alertas=sc.textFile(\"112/alertas112.txt\")"
   ]
  },
  {
   "cell_type": "code",
   "execution_count": 6,
   "metadata": {
    "collapsed": false
   },
   "outputs": [
    {
     "data": {
      "text/plain": [
       "100001"
      ]
     },
     "execution_count": 6,
     "metadata": {},
     "output_type": "execute_result"
    }
   ],
   "source": [
    "alertas.count()"
   ]
  },
  {
   "cell_type": "code",
   "execution_count": 8,
   "metadata": {
    "collapsed": false
   },
   "outputs": [
    {
     "data": {
      "text/plain": [
       "[u'ANIO;MINICIO;MES;CODSEXO;CODMUN;MUN112;PROV;ISLA;RECURSO;FRECURSO',\n",
       " u'2008;08;Agosto;;35016;Las Palmas;Las Palmas;Gran Canaria;Policia Local;Informacion sin Seguimiento',\n",
       " u'2005;10;Octubre;Ho;35016;Las Palmas;Las Palmas;Gran Canaria;NA;NA',\n",
       " u'2005;02;Febrero;Mu;35016;Las Palmas;Las Palmas;Gran Canaria;NA;NA',\n",
       " u'2005;09;Septiembre;Mu;38038;Santa Cruz de Tenerife;Tenerife;Tenerife;Policia Local;Actuaci\\xf3n in situ']"
      ]
     },
     "execution_count": 8,
     "metadata": {},
     "output_type": "execute_result"
    }
   ],
   "source": [
    "alertas.take(5)"
   ]
  },
  {
   "cell_type": "code",
   "execution_count": 9,
   "metadata": {
    "collapsed": false
   },
   "outputs": [
    {
     "data": {
      "text/plain": [
       "[u'2008;08;Agosto;;35016;Las Palmas;Las Palmas;Gran Canaria;Policia Local;Informacion sin Seguimiento',\n",
       " u'2005;10;Octubre;Ho;35016;Las Palmas;Las Palmas;Gran Canaria;NA;NA',\n",
       " u'2005;02;Febrero;Mu;35016;Las Palmas;Las Palmas;Gran Canaria;NA;NA',\n",
       " u'2005;09;Septiembre;Mu;38038;Santa Cruz de Tenerife;Tenerife;Tenerife;Policia Local;Actuaci\\xf3n in situ',\n",
       " u'2009;11;Noviembre;;35002;Ag\\xfcimes;Las Palmas;Gran Canaria;Policia Local;Informacion sin Seguimiento']"
      ]
     },
     "execution_count": 9,
     "metadata": {},
     "output_type": "execute_result"
    }
   ],
   "source": [
    "header = alertas.first() #extract header\n",
    "alertas = alertas.filter(lambda x:x !=header)    #filter out header\n",
    "alertas.take(5)"
   ]
  },
  {
   "cell_type": "code",
   "execution_count": 7,
   "metadata": {
    "collapsed": true
   },
   "outputs": [],
   "source": [
    "from pyspark.sql import SQLContext\n",
    "sqlContext = SQLContext(sc)"
   ]
  },
  {
   "cell_type": "code",
   "execution_count": 8,
   "metadata": {
    "collapsed": false
   },
   "outputs": [
    {
     "name": "stdout",
     "output_type": "stream",
     "text": [
      "/home/jovyan/work/extrainfo2017/tema04\r\n"
     ]
    }
   ],
   "source": [
    "!pwd"
   ]
  },
  {
   "cell_type": "code",
   "execution_count": 9,
   "metadata": {
    "collapsed": false
   },
   "outputs": [],
   "source": [
    "df = sqlContext.read.format('com.databricks.spark.csv') \\\n",
    "                    .options(header='true', inferschema='true', delimiter=';') \\\n",
    "                    .load('file:///home/jovyan/work/extrainfo2017/tema04/112/alertas112.txt')\n",
    "#df = sqlContext.read.format('com.databricks.spark.csv') \\\n",
    "#                    .options(header='true', inferschema='true', delimiter=';') \\\n",
    "#                    .load('alertas112_red.txt')"
   ]
  },
  {
   "cell_type": "code",
   "execution_count": 13,
   "metadata": {
    "collapsed": false
   },
   "outputs": [
    {
     "name": "stdout",
     "output_type": "stream",
     "text": [
      "root\n",
      " |-- ANIO: integer (nullable = true)\n",
      " |-- MINICIO: integer (nullable = true)\n",
      " |-- MES: string (nullable = true)\n",
      " |-- CODSEXO: string (nullable = true)\n",
      " |-- CODMUN: integer (nullable = true)\n",
      " |-- MUN112: string (nullable = true)\n",
      " |-- PROV: string (nullable = true)\n",
      " |-- ISLA: string (nullable = true)\n",
      " |-- RECURSO: string (nullable = true)\n",
      " |-- FRECURSO: string (nullable = true)\n",
      "\n"
     ]
    }
   ],
   "source": [
    "df.printSchema()"
   ]
  },
  {
   "cell_type": "code",
   "execution_count": 14,
   "metadata": {
    "collapsed": false
   },
   "outputs": [
    {
     "name": "stdout",
     "output_type": "stream",
     "text": [
      "+----+-------+----------+-------+------+--------------------+----------+------------+-------------+--------------------+\n",
      "|ANIO|MINICIO|       MES|CODSEXO|CODMUN|              MUN112|      PROV|        ISLA|      RECURSO|            FRECURSO|\n",
      "+----+-------+----------+-------+------+--------------------+----------+------------+-------------+--------------------+\n",
      "|2008|      8|    Agosto|   null| 35016|          Las Palmas|Las Palmas|Gran Canaria|Policia Local|Informacion sin S...|\n",
      "|2005|     10|   Octubre|     Ho| 35016|          Las Palmas|Las Palmas|Gran Canaria|           NA|                  NA|\n",
      "|2005|      2|   Febrero|     Mu| 35016|          Las Palmas|Las Palmas|Gran Canaria|           NA|                  NA|\n",
      "|2005|      9|Septiembre|     Mu| 38038|Santa Cruz de Ten...|  Tenerife|    Tenerife|Policia Local|   Actuación in situ|\n",
      "|2009|     11| Noviembre|   null| 35002|             Agüimes|Las Palmas|Gran Canaria|Policia Local|Informacion sin S...|\n",
      "+----+-------+----------+-------+------+--------------------+----------+------------+-------------+--------------------+\n",
      "only showing top 5 rows\n",
      "\n"
     ]
    }
   ],
   "source": [
    "df.show(5)"
   ]
  },
  {
   "cell_type": "code",
   "execution_count": 12,
   "metadata": {
    "collapsed": false
   },
   "outputs": [
    {
     "name": "stdout",
     "output_type": "stream",
     "text": [
      "+----+-----+\n",
      "|ANIO|count|\n",
      "+----+-----+\n",
      "|2007| 9839|\n",
      "|2006| 9766|\n",
      "|2013| 9627|\n",
      "|2014| 9978|\n",
      "|2012|10425|\n",
      "|2009|10450|\n",
      "|2005| 9472|\n",
      "|2010|10108|\n",
      "|2011|10136|\n",
      "|2008|10199|\n",
      "+----+-----+\n",
      "\n"
     ]
    }
   ],
   "source": [
    "df_by_anio=df.groupBy(\"ANIO\").count()\n",
    "df_by_anio.show()"
   ]
  },
  {
   "cell_type": "code",
   "execution_count": 28,
   "metadata": {
    "collapsed": false
   },
   "outputs": [
    {
     "data": {
      "text/plain": [
       "[Row(ANIO=2007, count=9839),\n",
       " Row(ANIO=2006, count=9766),\n",
       " Row(ANIO=2013, count=9627),\n",
       " Row(ANIO=2014, count=9978),\n",
       " Row(ANIO=2012, count=10425)]"
      ]
     },
     "execution_count": 28,
     "metadata": {},
     "output_type": "execute_result"
    }
   ],
   "source": [
    "df_by_anio.head(5)"
   ]
  },
  {
   "cell_type": "code",
   "execution_count": 17,
   "metadata": {
    "collapsed": false
   },
   "outputs": [
    {
     "data": {
      "text/plain": [
       "[Row(ANIO=2007),\n",
       " Row(ANIO=2006),\n",
       " Row(ANIO=2013),\n",
       " Row(ANIO=2014),\n",
       " Row(ANIO=2012)]"
      ]
     },
     "execution_count": 17,
     "metadata": {},
     "output_type": "execute_result"
    }
   ],
   "source": [
    "df_by_anio.select('ANIO').head(5)"
   ]
  },
  {
   "cell_type": "code",
   "execution_count": 18,
   "metadata": {
    "collapsed": false
   },
   "outputs": [
    {
     "name": "stdout",
     "output_type": "stream",
     "text": [
      "+-------------+\n",
      "|(ANIO > 2009)|\n",
      "+-------------+\n",
      "|        false|\n",
      "|        false|\n",
      "|         true|\n",
      "|         true|\n",
      "|         true|\n",
      "|        false|\n",
      "|        false|\n",
      "|         true|\n",
      "|         true|\n",
      "|        false|\n",
      "+-------------+\n",
      "\n"
     ]
    }
   ],
   "source": [
    "#https://databricks.com/blog/2015/08/12/from-pandas-to-apache-sparks-dataframe.html\n",
    "df_by_anio.select(df_by_anio.ANIO > 2009).show()"
   ]
  },
  {
   "cell_type": "code",
   "execution_count": 19,
   "metadata": {
    "collapsed": false
   },
   "outputs": [
    {
     "name": "stdout",
     "output_type": "stream",
     "text": [
      "+----+-----+-----------+\n",
      "|ANIO|count|filter_anio|\n",
      "+----+-----+-----------+\n",
      "|2007| 9839|      false|\n",
      "|2006| 9766|      false|\n",
      "|2013| 9627|       true|\n",
      "|2014| 9978|       true|\n",
      "|2012|10425|       true|\n",
      "|2009|10450|      false|\n",
      "|2005| 9472|      false|\n",
      "|2010|10108|       true|\n",
      "|2011|10136|       true|\n",
      "|2008|10199|      false|\n",
      "+----+-----+-----------+\n",
      "\n"
     ]
    }
   ],
   "source": [
    "df_by_anio_ampliado=df_by_anio.withColumn('filter_anio', df_by_anio.ANIO > 2009)\n",
    "df_by_anio_ampliado.show()"
   ]
  },
  {
   "cell_type": "code",
   "execution_count": 20,
   "metadata": {
    "collapsed": false
   },
   "outputs": [
    {
     "name": "stdout",
     "output_type": "stream",
     "text": [
      "+----+-----+-----------+\n",
      "|ANIO|count|filter_anio|\n",
      "+----+-----+-----------+\n",
      "|2013| 9627|       true|\n",
      "|2014| 9978|       true|\n",
      "|2012|10425|       true|\n",
      "|2010|10108|       true|\n",
      "|2011|10136|       true|\n",
      "+----+-----+-----------+\n",
      "\n"
     ]
    }
   ],
   "source": [
    "df_by_anio_ampliado[df_by_anio_ampliado.filter_anio == True].show()"
   ]
  },
  {
   "cell_type": "code",
   "execution_count": 21,
   "metadata": {
    "collapsed": false
   },
   "outputs": [
    {
     "name": "stdout",
     "output_type": "stream",
     "text": [
      "+----+-----+\n",
      "|ANIO|count|\n",
      "+----+-----+\n",
      "|2013| 9627|\n",
      "|2014| 9978|\n",
      "|2012|10425|\n",
      "|2010|10108|\n",
      "|2011|10136|\n",
      "+----+-----+\n",
      "\n"
     ]
    }
   ],
   "source": [
    "#en resumen\n",
    "df_by_anio[df_by_anio.ANIO>2009].show()"
   ]
  },
  {
   "cell_type": "markdown",
   "metadata": {},
   "source": [
    "<h4> Operaciones estadísticas </h4>"
   ]
  },
  {
   "cell_type": "code",
   "execution_count": 13,
   "metadata": {
    "collapsed": false
   },
   "outputs": [
    {
     "name": "stdout",
     "output_type": "stream",
     "text": [
      "+-------+-----------------+\n",
      "|summary|            count|\n",
      "+-------+-----------------+\n",
      "|  count|               10|\n",
      "|   mean|          10000.0|\n",
      "| stddev|325.2281250650587|\n",
      "|    min|             9472|\n",
      "|    max|            10450|\n",
      "+-------+-----------------+\n",
      "\n"
     ]
    }
   ],
   "source": [
    "df_by_anio.describe('count').show()"
   ]
  },
  {
   "cell_type": "code",
   "execution_count": 14,
   "metadata": {
    "collapsed": false
   },
   "outputs": [
    {
     "name": "stdout",
     "output_type": "stream",
     "text": [
      "+----------+----------+----------+\n",
      "|avg(count)|min(count)|max(count)|\n",
      "+----------+----------+----------+\n",
      "|   10000.0|      9472|     10450|\n",
      "+----------+----------+----------+\n",
      "\n"
     ]
    }
   ],
   "source": [
    "#https://spark.apache.org/docs/1.6.0/api/python/_modules/pyspark/sql/functions.html\n",
    "from pyspark.sql.functions import mean, min, max\n",
    "df_by_anio.select([mean('count'), min('count'), max('count')]).show()"
   ]
  },
  {
   "cell_type": "code",
   "execution_count": 24,
   "metadata": {
    "collapsed": false
   },
   "outputs": [
    {
     "name": "stdout",
     "output_type": "stream",
     "text": [
      "+----+-----+-------------------+\n",
      "|ANIO|count|count_divided_by_12|\n",
      "+----+-----+-------------------+\n",
      "|2007| 9839|  819.9166666666666|\n",
      "|2006| 9766|  813.8333333333334|\n",
      "|2013| 9627|             802.25|\n",
      "|2014| 9978|              831.5|\n",
      "|2012|10425|             868.75|\n",
      "|2009|10450|  870.8333333333334|\n",
      "|2005| 9472|  789.3333333333334|\n",
      "|2010|10108|  842.3333333333334|\n",
      "|2011|10136|  844.6666666666666|\n",
      "|2008|10199|  849.9166666666666|\n",
      "+----+-----+-------------------+\n",
      "\n"
     ]
    }
   ],
   "source": [
    "df_by_anio_ampliado=df_by_anio.withColumn(\"count_divided_by_12\",df_by_anio[\"count\"]/12)\n",
    "df_by_anio_ampliado.show()"
   ]
  },
  {
   "cell_type": "code",
   "execution_count": 25,
   "metadata": {
    "collapsed": false
   },
   "outputs": [
    {
     "name": "stdout",
     "output_type": "stream",
     "text": [
      "+------------+----+----+----+\n",
      "|ANIO_CODSEXO|  Ho|  Mu|null|\n",
      "+------------+----+----+----+\n",
      "|        2014|3073|3058|3847|\n",
      "|        2010|2966|2819|4323|\n",
      "|        2007|3175|2872|3792|\n",
      "|        2011|3044|2889|4203|\n",
      "|        2006|3103|2721|3942|\n",
      "|        2005|3087|2717|3668|\n",
      "|        2012|3270|3176|3979|\n",
      "|        2013|3048|2826|3753|\n",
      "|        2009|3209|3087|4154|\n",
      "|        2008|3096|2827|4276|\n",
      "+------------+----+----+----+\n",
      "\n"
     ]
    }
   ],
   "source": [
    "#https://databricks.com/blog/2015/06/02/statistical-and-mathematical-functions-with-dataframes-in-spark.html\n",
    "#Cross Tabulation\n",
    "df.stat.crosstab(\"ANIO\", \"CODSEXO\").show()"
   ]
  },
  {
   "cell_type": "code",
   "execution_count": 26,
   "metadata": {
    "collapsed": false
   },
   "outputs": [
    {
     "data": {
      "text/plain": [
       "[Row(RECURSO_freqItems=[u'Ambulancia SVB', u'Policia Local'])]"
      ]
     },
     "execution_count": 26,
     "metadata": {},
     "output_type": "execute_result"
    }
   ],
   "source": [
    "#Frequent Items\n",
    "freq = df.stat.freqItems([\"RECURSO\"], 0.4)  #finds the frequent items that show up 60% \n",
    "                                            #of the time for each column\n",
    "freq.collect()"
   ]
  },
  {
   "cell_type": "markdown",
   "metadata": {},
   "source": [
    "<h4> Convirtiendo dataframe a Pandas </h4>"
   ]
  },
  {
   "cell_type": "code",
   "execution_count": 17,
   "metadata": {
    "collapsed": false
   },
   "outputs": [
    {
     "data": {
      "text/html": [
       "<div>\n",
       "<table border=\"1\" class=\"dataframe\">\n",
       "  <thead>\n",
       "    <tr style=\"text-align: right;\">\n",
       "      <th></th>\n",
       "      <th>ANIO</th>\n",
       "      <th>count</th>\n",
       "    </tr>\n",
       "  </thead>\n",
       "  <tbody>\n",
       "    <tr>\n",
       "      <th>0</th>\n",
       "      <td>2007</td>\n",
       "      <td>9839</td>\n",
       "    </tr>\n",
       "    <tr>\n",
       "      <th>1</th>\n",
       "      <td>2006</td>\n",
       "      <td>9766</td>\n",
       "    </tr>\n",
       "    <tr>\n",
       "      <th>2</th>\n",
       "      <td>2013</td>\n",
       "      <td>9627</td>\n",
       "    </tr>\n",
       "    <tr>\n",
       "      <th>3</th>\n",
       "      <td>2014</td>\n",
       "      <td>9978</td>\n",
       "    </tr>\n",
       "    <tr>\n",
       "      <th>4</th>\n",
       "      <td>2012</td>\n",
       "      <td>10425</td>\n",
       "    </tr>\n",
       "    <tr>\n",
       "      <th>5</th>\n",
       "      <td>2009</td>\n",
       "      <td>10450</td>\n",
       "    </tr>\n",
       "    <tr>\n",
       "      <th>6</th>\n",
       "      <td>2005</td>\n",
       "      <td>9472</td>\n",
       "    </tr>\n",
       "    <tr>\n",
       "      <th>7</th>\n",
       "      <td>2010</td>\n",
       "      <td>10108</td>\n",
       "    </tr>\n",
       "    <tr>\n",
       "      <th>8</th>\n",
       "      <td>2011</td>\n",
       "      <td>10136</td>\n",
       "    </tr>\n",
       "    <tr>\n",
       "      <th>9</th>\n",
       "      <td>2008</td>\n",
       "      <td>10199</td>\n",
       "    </tr>\n",
       "  </tbody>\n",
       "</table>\n",
       "</div>"
      ],
      "text/plain": [
       "   ANIO  count\n",
       "0  2007   9839\n",
       "1  2006   9766\n",
       "2  2013   9627\n",
       "3  2014   9978\n",
       "4  2012  10425\n",
       "5  2009  10450\n",
       "6  2005   9472\n",
       "7  2010  10108\n",
       "8  2011  10136\n",
       "9  2008  10199"
      ]
     },
     "execution_count": 17,
     "metadata": {},
     "output_type": "execute_result"
    }
   ],
   "source": [
    "df_anio=df_by_anio.toPandas()\n",
    "df_anio"
   ]
  },
  {
   "cell_type": "code",
   "execution_count": 18,
   "metadata": {
    "collapsed": false
   },
   "outputs": [
    {
     "data": {
      "text/html": [
       "<div>\n",
       "<table border=\"1\" class=\"dataframe\">\n",
       "  <thead>\n",
       "    <tr style=\"text-align: right;\">\n",
       "      <th></th>\n",
       "      <th>ANIO</th>\n",
       "      <th>count</th>\n",
       "    </tr>\n",
       "  </thead>\n",
       "  <tbody>\n",
       "    <tr>\n",
       "      <th>0</th>\n",
       "      <td>2007</td>\n",
       "      <td>9839</td>\n",
       "    </tr>\n",
       "    <tr>\n",
       "      <th>1</th>\n",
       "      <td>2006</td>\n",
       "      <td>9766</td>\n",
       "    </tr>\n",
       "    <tr>\n",
       "      <th>2</th>\n",
       "      <td>2013</td>\n",
       "      <td>9627</td>\n",
       "    </tr>\n",
       "    <tr>\n",
       "      <th>3</th>\n",
       "      <td>2014</td>\n",
       "      <td>9978</td>\n",
       "    </tr>\n",
       "    <tr>\n",
       "      <th>4</th>\n",
       "      <td>2012</td>\n",
       "      <td>10425</td>\n",
       "    </tr>\n",
       "  </tbody>\n",
       "</table>\n",
       "</div>"
      ],
      "text/plain": [
       "   ANIO  count\n",
       "0  2007   9839\n",
       "1  2006   9766\n",
       "2  2013   9627\n",
       "3  2014   9978\n",
       "4  2012  10425"
      ]
     },
     "execution_count": 18,
     "metadata": {},
     "output_type": "execute_result"
    }
   ],
   "source": [
    "df_anio.head(5)"
   ]
  },
  {
   "cell_type": "code",
   "execution_count": 19,
   "metadata": {
    "collapsed": false
   },
   "outputs": [
    {
     "data": {
      "text/html": [
       "<div>\n",
       "<table border=\"1\" class=\"dataframe\">\n",
       "  <thead>\n",
       "    <tr style=\"text-align: right;\">\n",
       "      <th></th>\n",
       "      <th>ANIO</th>\n",
       "      <th>count</th>\n",
       "    </tr>\n",
       "  </thead>\n",
       "  <tbody>\n",
       "    <tr>\n",
       "      <th>5</th>\n",
       "      <td>2009</td>\n",
       "      <td>10450</td>\n",
       "    </tr>\n",
       "    <tr>\n",
       "      <th>6</th>\n",
       "      <td>2005</td>\n",
       "      <td>9472</td>\n",
       "    </tr>\n",
       "    <tr>\n",
       "      <th>7</th>\n",
       "      <td>2010</td>\n",
       "      <td>10108</td>\n",
       "    </tr>\n",
       "    <tr>\n",
       "      <th>8</th>\n",
       "      <td>2011</td>\n",
       "      <td>10136</td>\n",
       "    </tr>\n",
       "    <tr>\n",
       "      <th>9</th>\n",
       "      <td>2008</td>\n",
       "      <td>10199</td>\n",
       "    </tr>\n",
       "  </tbody>\n",
       "</table>\n",
       "</div>"
      ],
      "text/plain": [
       "   ANIO  count\n",
       "5  2009  10450\n",
       "6  2005   9472\n",
       "7  2010  10108\n",
       "8  2011  10136\n",
       "9  2008  10199"
      ]
     },
     "execution_count": 19,
     "metadata": {},
     "output_type": "execute_result"
    }
   ],
   "source": [
    "df_anio.tail(5)"
   ]
  },
  {
   "cell_type": "code",
   "execution_count": 20,
   "metadata": {
    "collapsed": false
   },
   "outputs": [
    {
     "data": {
      "text/html": [
       "<div>\n",
       "<table border=\"1\" class=\"dataframe\">\n",
       "  <thead>\n",
       "    <tr style=\"text-align: right;\">\n",
       "      <th></th>\n",
       "      <th>count</th>\n",
       "    </tr>\n",
       "  </thead>\n",
       "  <tbody>\n",
       "    <tr>\n",
       "      <th>count</th>\n",
       "      <td>10.000000</td>\n",
       "    </tr>\n",
       "    <tr>\n",
       "      <th>mean</th>\n",
       "      <td>10000.000000</td>\n",
       "    </tr>\n",
       "    <tr>\n",
       "      <th>std</th>\n",
       "      <td>325.228125</td>\n",
       "    </tr>\n",
       "    <tr>\n",
       "      <th>min</th>\n",
       "      <td>9472.000000</td>\n",
       "    </tr>\n",
       "    <tr>\n",
       "      <th>25%</th>\n",
       "      <td>9784.250000</td>\n",
       "    </tr>\n",
       "    <tr>\n",
       "      <th>50%</th>\n",
       "      <td>10043.000000</td>\n",
       "    </tr>\n",
       "    <tr>\n",
       "      <th>75%</th>\n",
       "      <td>10183.250000</td>\n",
       "    </tr>\n",
       "    <tr>\n",
       "      <th>max</th>\n",
       "      <td>10450.000000</td>\n",
       "    </tr>\n",
       "  </tbody>\n",
       "</table>\n",
       "</div>"
      ],
      "text/plain": [
       "              count\n",
       "count     10.000000\n",
       "mean   10000.000000\n",
       "std      325.228125\n",
       "min     9472.000000\n",
       "25%     9784.250000\n",
       "50%    10043.000000\n",
       "75%    10183.250000\n",
       "max    10450.000000"
      ]
     },
     "execution_count": 20,
     "metadata": {},
     "output_type": "execute_result"
    }
   ],
   "source": [
    "df_anio[['count']].describe()"
   ]
  },
  {
   "cell_type": "code",
   "execution_count": 21,
   "metadata": {
    "collapsed": false
   },
   "outputs": [
    {
     "data": {
      "text/html": [
       "<div>\n",
       "<table border=\"1\" class=\"dataframe\">\n",
       "  <thead>\n",
       "    <tr style=\"text-align: right;\">\n",
       "      <th></th>\n",
       "      <th>ANIO</th>\n",
       "      <th>count</th>\n",
       "      <th>count_divided_by_12</th>\n",
       "    </tr>\n",
       "  </thead>\n",
       "  <tbody>\n",
       "    <tr>\n",
       "      <th>0</th>\n",
       "      <td>2007</td>\n",
       "      <td>9839</td>\n",
       "      <td>819.916667</td>\n",
       "    </tr>\n",
       "    <tr>\n",
       "      <th>1</th>\n",
       "      <td>2006</td>\n",
       "      <td>9766</td>\n",
       "      <td>813.833333</td>\n",
       "    </tr>\n",
       "    <tr>\n",
       "      <th>2</th>\n",
       "      <td>2013</td>\n",
       "      <td>9627</td>\n",
       "      <td>802.250000</td>\n",
       "    </tr>\n",
       "    <tr>\n",
       "      <th>3</th>\n",
       "      <td>2014</td>\n",
       "      <td>9978</td>\n",
       "      <td>831.500000</td>\n",
       "    </tr>\n",
       "    <tr>\n",
       "      <th>4</th>\n",
       "      <td>2012</td>\n",
       "      <td>10425</td>\n",
       "      <td>868.750000</td>\n",
       "    </tr>\n",
       "    <tr>\n",
       "      <th>5</th>\n",
       "      <td>2009</td>\n",
       "      <td>10450</td>\n",
       "      <td>870.833333</td>\n",
       "    </tr>\n",
       "    <tr>\n",
       "      <th>6</th>\n",
       "      <td>2005</td>\n",
       "      <td>9472</td>\n",
       "      <td>789.333333</td>\n",
       "    </tr>\n",
       "    <tr>\n",
       "      <th>7</th>\n",
       "      <td>2010</td>\n",
       "      <td>10108</td>\n",
       "      <td>842.333333</td>\n",
       "    </tr>\n",
       "    <tr>\n",
       "      <th>8</th>\n",
       "      <td>2011</td>\n",
       "      <td>10136</td>\n",
       "      <td>844.666667</td>\n",
       "    </tr>\n",
       "    <tr>\n",
       "      <th>9</th>\n",
       "      <td>2008</td>\n",
       "      <td>10199</td>\n",
       "      <td>849.916667</td>\n",
       "    </tr>\n",
       "  </tbody>\n",
       "</table>\n",
       "</div>"
      ],
      "text/plain": [
       "   ANIO  count  count_divided_by_12\n",
       "0  2007   9839           819.916667\n",
       "1  2006   9766           813.833333\n",
       "2  2013   9627           802.250000\n",
       "3  2014   9978           831.500000\n",
       "4  2012  10425           868.750000\n",
       "5  2009  10450           870.833333\n",
       "6  2005   9472           789.333333\n",
       "7  2010  10108           842.333333\n",
       "8  2011  10136           844.666667\n",
       "9  2008  10199           849.916667"
      ]
     },
     "execution_count": 21,
     "metadata": {},
     "output_type": "execute_result"
    }
   ],
   "source": [
    "df_anio[\"count_divided_by_12\"]=df_anio[\"count\"]/12\n",
    "df_anio"
   ]
  },
  {
   "cell_type": "markdown",
   "metadata": {},
   "source": [
    "<h4> Visualización gráfica </h4>"
   ]
  },
  {
   "cell_type": "code",
   "execution_count": 22,
   "metadata": {
    "collapsed": false
   },
   "outputs": [
    {
     "name": "stderr",
     "output_type": "stream",
     "text": [
      "/opt/conda/lib/python3.5/site-packages/matplotlib/font_manager.py:273: UserWarning: Matplotlib is building the font cache using fc-list. This may take a moment.\n",
      "  warnings.warn('Matplotlib is building the font cache using fc-list. This may take a moment.')\n",
      "/opt/conda/lib/python3.5/site-packages/matplotlib/font_manager.py:273: UserWarning: Matplotlib is building the font cache using fc-list. This may take a moment.\n",
      "  warnings.warn('Matplotlib is building the font cache using fc-list. This may take a moment.')\n"
     ]
    },
    {
     "data": {
      "image/png": "[encoded data removed]",
      "text/plain": [
       "<matplotlib.figure.Figure at 0x7f790492acc0>"
      ]
     },
     "metadata": {},
     "output_type": "display_data"
    }
   ],
   "source": [
    "%matplotlib inline\n",
    "import matplotlib.pyplot as plt\n",
    "import numpy as np\n",
    "\n",
    "values = df_anio[\"count\"]\n",
    "anios = df_anio[\"ANIO\"]\n",
    "\n",
    "plt.gcf().set_size_inches(16, 12, forward=True)\n",
    "plt.title('Number of alerts by anio')\n",
    "\n",
    "plt.bar(range(len(values)), values)\n",
    "plt.xticks([i+0.5 for i in range(len(values))], anios)\n",
    "\n",
    "plt.show()"
   ]
  },
  {
   "cell_type": "code",
   "execution_count": 23,
   "metadata": {
    "collapsed": false
   },
   "outputs": [
    {
     "data": {
      "text/plain": [
       "<matplotlib.axes._subplots.AxesSubplot at 0x7f79087d5710>"
      ]
     },
     "execution_count": 23,
     "metadata": {},
     "output_type": "execute_result"
    },
    {
     "data": {
      "image/png": "[encoded data removed]",
      "text/plain": [
       "<matplotlib.figure.Figure at 0x7f7908d1d198>"
      ]
     },
     "metadata": {},
     "output_type": "display_data"
    }
   ],
   "source": [
    "import numpy as np\n",
    "import matplotlib.pyplot as plt\n",
    "\n",
    "plt.style.use('ggplot')\n",
    "\n",
    "df_anio.plot(\n",
    "  kind='barh', \n",
    "  x='ANIO',\n",
    "  y='count',\n",
    "  figsize=(12, 8)\n",
    ")"
   ]
  },
  {
   "cell_type": "code",
   "execution_count": null,
   "metadata": {
    "collapsed": true
   },
   "outputs": [],
   "source": []
  }
 ],
 "metadata": {
  "kernelspec": {
   "display_name": "Python 3",
   "language": "python",
   "name": "python3"
  },
  "language_info": {
   "codemirror_mode": {
    "name": "ipython",
    "version": 3
   },
   "file_extension": ".py",
   "mimetype": "text/x-python",
   "name": "python",
   "nbconvert_exporter": "python",
   "pygments_lexer": "ipython3",
   "version": "3.5.2"
  }
 },
 "nbformat": 4,
 "nbformat_minor": 0
}
